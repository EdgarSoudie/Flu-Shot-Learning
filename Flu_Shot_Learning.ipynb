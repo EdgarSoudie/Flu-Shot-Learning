{
 "cells": [
  {
   "cell_type": "markdown",
   "id": "c281e03a",
   "metadata": {},
   "source": [
    "# Flu Shot Learning"
   ]
  },
  {
   "cell_type": "markdown",
   "id": "a823fb8f",
   "metadata": {},
   "source": [
    "## The plan: \n",
    "- Define the business goal: To estimate individuals’ vaccination probabilities to aid public‑health outreach. \n",
    "- Perform EDA to understand feature distributions, missingness, and class balance. \n",
    "- Prepare data by imputing missing values and encoding categoricals. \n",
    "- In modeling, train with Logistic Regression for linearity and LightGBM classifiers with stratified k‑fold cross‑validation for non-linearity but also for high predictive accuracy\n",
    "- Evaluate using macro ROC AUC, interpreting fold‑level scores, feature importance, and variation. \n",
    "- Deploy by generating predictions for the test set."
   ]
  },
  {
   "cell_type": "markdown",
   "id": "9fd54bf5",
   "metadata": {},
   "source": [
    "## A. Load Libraries"
   ]
  },
  {
   "cell_type": "code",
   "execution_count": 1,
   "id": "58618a63",
   "metadata": {},
   "outputs": [],
   "source": [
    "import pandas as pd\n",
    "import numpy as np\n",
    "from sklearn.model_selection import StratifiedKFold,train_test_split\n",
    "from sklearn.linear_model import LogisticRegression\n",
    "from sklearn.metrics import roc_auc_score, f1_score, accuracy_score, confusion_matrix, classification_report\n",
    "from sklearn.preprocessing import StandardScaler, OneHotEncoder,LabelEncoder \n",
    "from sklearn.impute import SimpleImputer\n",
    "from sklearn.ensemble import StackingClassifier, VotingClassifier\n",
    "import lightgbm as lgb\n",
    "import imblearn\n",
    "import matplotlib.pyplot as plt\n",
    "import seaborn as sns\n",
    "import warnings\n",
    "\n",
    "# 1. Business Understanding\n",
    "# The goal is to predict H1N1 and seasonal flu vaccine uptake."
   ]
  },
  {
   "cell_type": "markdown",
   "id": "2caa5d2a",
   "metadata": {},
   "source": [
    "## B. Load Data"
   ]
  },
  {
   "cell_type": "code",
   "execution_count": 2,
   "id": "7c1bd09b",
   "metadata": {},
   "outputs": [],
   "source": [
    "# Load the challenge data files\n",
    "feat_train = pd.read_csv('Data/training_set_features.csv')\n",
    "lbl_train = pd.read_csv('Data/training_set_labels.csv')\n",
    "feat_test = pd.read_csv('Data/test_set_features.csv')"
   ]
  },
  {
   "cell_type": "markdown",
   "id": "649fc617",
   "metadata": {},
   "source": [
    "## C. EDA: Data Understanding"
   ]
  },
  {
   "cell_type": "code",
   "execution_count": 3,
   "id": "ed15877f",
   "metadata": {},
   "outputs": [
    {
     "name": "stdout",
     "output_type": "stream",
     "text": [
      "feat_train shape: (26707, 36)\n",
      "lbl_train shape: (26707, 3)\n",
      "Test features shape: (26708, 36)\n",
      "   respondent_id  h1n1_concern  h1n1_knowledge  behavioral_antiviral_meds  \\\n",
      "0              0           1.0             0.0                        0.0   \n",
      "1              1           3.0             2.0                        0.0   \n",
      "2              2           1.0             1.0                        0.0   \n",
      "3              3           1.0             1.0                        0.0   \n",
      "4              4           2.0             1.0                        0.0   \n",
      "\n",
      "   behavioral_avoidance  behavioral_face_mask  behavioral_wash_hands  \\\n",
      "0                   0.0                   0.0                    0.0   \n",
      "1                   1.0                   0.0                    1.0   \n",
      "2                   1.0                   0.0                    0.0   \n",
      "3                   1.0                   0.0                    1.0   \n",
      "4                   1.0                   0.0                    1.0   \n",
      "\n",
      "   behavioral_large_gatherings  behavioral_outside_home  \\\n",
      "0                          0.0                      1.0   \n",
      "1                          0.0                      1.0   \n",
      "2                          0.0                      0.0   \n",
      "3                          1.0                      0.0   \n",
      "4                          1.0                      0.0   \n",
      "\n",
      "   behavioral_touch_face  ...             income_poverty  marital_status  \\\n",
      "0                    1.0  ...              Below Poverty     Not Married   \n",
      "1                    1.0  ...              Below Poverty     Not Married   \n",
      "2                    0.0  ...  <= $75,000, Above Poverty     Not Married   \n",
      "3                    0.0  ...              Below Poverty     Not Married   \n",
      "4                    1.0  ...  <= $75,000, Above Poverty         Married   \n",
      "\n",
      "   rent_or_own   employment_status  hhs_geo_region                census_msa  \\\n",
      "0          Own  Not in Labor Force        oxchjgsf                   Non-MSA   \n",
      "1         Rent            Employed        bhuqouqj  MSA, Not Principle  City   \n",
      "2          Own            Employed        qufhixun  MSA, Not Principle  City   \n",
      "3         Rent  Not in Labor Force        lrircsnp       MSA, Principle City   \n",
      "4          Own            Employed        qufhixun  MSA, Not Principle  City   \n",
      "\n",
      "   household_adults  household_children  employment_industry  \\\n",
      "0               0.0                 0.0                  NaN   \n",
      "1               0.0                 0.0             pxcmvdjn   \n",
      "2               2.0                 0.0             rucpziij   \n",
      "3               0.0                 0.0                  NaN   \n",
      "4               1.0                 0.0             wxleyezf   \n",
      "\n",
      "   employment_occupation  \n",
      "0                    NaN  \n",
      "1               xgwztkwe  \n",
      "2               xtkaffoo  \n",
      "3                    NaN  \n",
      "4               emcorrxb  \n",
      "\n",
      "[5 rows x 36 columns]\n",
      "<class 'pandas.core.frame.DataFrame'>\n",
      "RangeIndex: 26707 entries, 0 to 26706\n",
      "Data columns (total 36 columns):\n",
      " #   Column                       Non-Null Count  Dtype  \n",
      "---  ------                       --------------  -----  \n",
      " 0   respondent_id                26707 non-null  int64  \n",
      " 1   h1n1_concern                 26615 non-null  float64\n",
      " 2   h1n1_knowledge               26591 non-null  float64\n",
      " 3   behavioral_antiviral_meds    26636 non-null  float64\n",
      " 4   behavioral_avoidance         26499 non-null  float64\n",
      " 5   behavioral_face_mask         26688 non-null  float64\n",
      " 6   behavioral_wash_hands        26665 non-null  float64\n",
      " 7   behavioral_large_gatherings  26620 non-null  float64\n",
      " 8   behavioral_outside_home      26625 non-null  float64\n",
      " 9   behavioral_touch_face        26579 non-null  float64\n",
      " 10  doctor_recc_h1n1             24547 non-null  float64\n",
      " 11  doctor_recc_seasonal         24547 non-null  float64\n",
      " 12  chronic_med_condition        25736 non-null  float64\n",
      " 13  child_under_6_months         25887 non-null  float64\n",
      " 14  health_worker                25903 non-null  float64\n",
      " 15  health_insurance             14433 non-null  float64\n",
      " 16  opinion_h1n1_vacc_effective  26316 non-null  float64\n",
      " 17  opinion_h1n1_risk            26319 non-null  float64\n",
      " 18  opinion_h1n1_sick_from_vacc  26312 non-null  float64\n",
      " 19  opinion_seas_vacc_effective  26245 non-null  float64\n",
      " 20  opinion_seas_risk            26193 non-null  float64\n",
      " 21  opinion_seas_sick_from_vacc  26170 non-null  float64\n",
      " 22  age_group                    26707 non-null  object \n",
      " 23  education                    25300 non-null  object \n",
      " 24  race                         26707 non-null  object \n",
      " 25  sex                          26707 non-null  object \n",
      " 26  income_poverty               22284 non-null  object \n",
      " 27  marital_status               25299 non-null  object \n",
      " 28  rent_or_own                  24665 non-null  object \n",
      " 29  employment_status            25244 non-null  object \n",
      " 30  hhs_geo_region               26707 non-null  object \n",
      " 31  census_msa                   26707 non-null  object \n",
      " 32  household_adults             26458 non-null  float64\n",
      " 33  household_children           26458 non-null  float64\n",
      " 34  employment_industry          13377 non-null  object \n",
      " 35  employment_occupation        13237 non-null  object \n",
      "dtypes: float64(23), int64(1), object(12)\n",
      "memory usage: 7.3+ MB\n",
      "None\n",
      "       respondent_id  h1n1_concern  h1n1_knowledge  behavioral_antiviral_meds  \\\n",
      "count   26707.000000  26615.000000    26591.000000               26636.000000   \n",
      "mean    13353.000000      1.618486        1.262532                   0.048844   \n",
      "std      7709.791156      0.910311        0.618149                   0.215545   \n",
      "min         0.000000      0.000000        0.000000                   0.000000   \n",
      "25%      6676.500000      1.000000        1.000000                   0.000000   \n",
      "50%     13353.000000      2.000000        1.000000                   0.000000   \n",
      "75%     20029.500000      2.000000        2.000000                   0.000000   \n",
      "max     26706.000000      3.000000        2.000000                   1.000000   \n",
      "\n",
      "       behavioral_avoidance  behavioral_face_mask  behavioral_wash_hands  \\\n",
      "count          26499.000000          26688.000000           26665.000000   \n",
      "mean               0.725612              0.068982               0.825614   \n",
      "std                0.446214              0.253429               0.379448   \n",
      "min                0.000000              0.000000               0.000000   \n",
      "25%                0.000000              0.000000               1.000000   \n",
      "50%                1.000000              0.000000               1.000000   \n",
      "75%                1.000000              0.000000               1.000000   \n",
      "max                1.000000              1.000000               1.000000   \n",
      "\n",
      "       behavioral_large_gatherings  behavioral_outside_home  \\\n",
      "count                  26620.00000             26625.000000   \n",
      "mean                       0.35864                 0.337315   \n",
      "std                        0.47961                 0.472802   \n",
      "min                        0.00000                 0.000000   \n",
      "25%                        0.00000                 0.000000   \n",
      "50%                        0.00000                 0.000000   \n",
      "75%                        1.00000                 1.000000   \n",
      "max                        1.00000                 1.000000   \n",
      "\n",
      "       behavioral_touch_face  ...  health_worker  health_insurance  \\\n",
      "count           26579.000000  ...   25903.000000       14433.00000   \n",
      "mean                0.677264  ...       0.111918           0.87972   \n",
      "std                 0.467531  ...       0.315271           0.32530   \n",
      "min                 0.000000  ...       0.000000           0.00000   \n",
      "25%                 0.000000  ...       0.000000           1.00000   \n",
      "50%                 1.000000  ...       0.000000           1.00000   \n",
      "75%                 1.000000  ...       0.000000           1.00000   \n",
      "max                 1.000000  ...       1.000000           1.00000   \n",
      "\n",
      "       opinion_h1n1_vacc_effective  opinion_h1n1_risk  \\\n",
      "count                 26316.000000       26319.000000   \n",
      "mean                      3.850623           2.342566   \n",
      "std                       1.007436           1.285539   \n",
      "min                       1.000000           1.000000   \n",
      "25%                       3.000000           1.000000   \n",
      "50%                       4.000000           2.000000   \n",
      "75%                       5.000000           4.000000   \n",
      "max                       5.000000           5.000000   \n",
      "\n",
      "       opinion_h1n1_sick_from_vacc  opinion_seas_vacc_effective  \\\n",
      "count                 26312.000000                 26245.000000   \n",
      "mean                      2.357670                     4.025986   \n",
      "std                       1.362766                     1.086565   \n",
      "min                       1.000000                     1.000000   \n",
      "25%                       1.000000                     4.000000   \n",
      "50%                       2.000000                     4.000000   \n",
      "75%                       4.000000                     5.000000   \n",
      "max                       5.000000                     5.000000   \n",
      "\n",
      "       opinion_seas_risk  opinion_seas_sick_from_vacc  household_adults  \\\n",
      "count       26193.000000                 26170.000000      26458.000000   \n",
      "mean            2.719162                     2.118112          0.886499   \n",
      "std             1.385055                     1.332950          0.753422   \n",
      "min             1.000000                     1.000000          0.000000   \n",
      "25%             2.000000                     1.000000          0.000000   \n",
      "50%             2.000000                     2.000000          1.000000   \n",
      "75%             4.000000                     4.000000          1.000000   \n",
      "max             5.000000                     5.000000          3.000000   \n",
      "\n",
      "       household_children  \n",
      "count        26458.000000  \n",
      "mean             0.534583  \n",
      "std              0.928173  \n",
      "min              0.000000  \n",
      "25%              0.000000  \n",
      "50%              0.000000  \n",
      "75%              1.000000  \n",
      "max              3.000000  \n",
      "\n",
      "[8 rows x 24 columns]\n",
      "----------------------------------------------------------------\n",
      "\n",
      "Missing values in train features:\n",
      " respondent_id                      0\n",
      "h1n1_concern                      92\n",
      "h1n1_knowledge                   116\n",
      "behavioral_antiviral_meds         71\n",
      "behavioral_avoidance             208\n",
      "behavioral_face_mask              19\n",
      "behavioral_wash_hands             42\n",
      "behavioral_large_gatherings       87\n",
      "behavioral_outside_home           82\n",
      "behavioral_touch_face            128\n",
      "doctor_recc_h1n1                2160\n",
      "doctor_recc_seasonal            2160\n",
      "chronic_med_condition            971\n",
      "child_under_6_months             820\n",
      "health_worker                    804\n",
      "health_insurance               12274\n",
      "opinion_h1n1_vacc_effective      391\n",
      "opinion_h1n1_risk                388\n",
      "opinion_h1n1_sick_from_vacc      395\n",
      "opinion_seas_vacc_effective      462\n",
      "opinion_seas_risk                514\n",
      "opinion_seas_sick_from_vacc      537\n",
      "age_group                          0\n",
      "education                       1407\n",
      "race                               0\n",
      "sex                                0\n",
      "income_poverty                  4423\n",
      "marital_status                  1408\n",
      "rent_or_own                     2042\n",
      "employment_status               1463\n",
      "hhs_geo_region                     0\n",
      "census_msa                         0\n",
      "household_adults                 249\n",
      "household_children               249\n",
      "employment_industry            13330\n",
      "employment_occupation          13470\n",
      "dtype: int64\n",
      "\n",
      "Unique values for categorical features:\n",
      "- age_group: 5 unique values\n",
      "- education: 4 unique values\n",
      "- race: 4 unique values\n",
      "- sex: 2 unique values\n",
      "- income_poverty: 3 unique values\n",
      "- marital_status: 2 unique values\n",
      "- rent_or_own: 2 unique values\n",
      "- employment_status: 3 unique values\n",
      "- hhs_geo_region: 10 unique values\n",
      "- census_msa: 3 unique values\n",
      "- employment_industry: 21 unique values\n",
      "- employment_occupation: 23 unique values\n",
      "----------------------------------------------------------------\n",
      "\n",
      "H1N1 Vaccine Value Counts:\n",
      " 0    21033\n",
      "1     5674\n",
      "Name: h1n1_vaccine, dtype: int64\n",
      "\n",
      "Seasonal Vaccine Value Counts:\n",
      " 0    14272\n",
      "1    12435\n",
      "Name: seasonal_vaccine, dtype: int64\n",
      "----------------------------------------------------------------\n",
      "\n",
      "Target variable distribution:\n",
      "respondent_id       13353.000000\n",
      "h1n1_vaccine            0.212454\n",
      "seasonal_vaccine        0.465608\n",
      "dtype: float64\n",
      "\n",
      "H1N1 Vaccine Uptake Distribution:\n",
      "0    21033\n",
      "1     5674\n",
      "Name: h1n1_vaccine, dtype: int64\n",
      "\n",
      "Seasonal Vaccine Uptake Distribution:\n",
      "0    14272\n",
      "1    12435\n",
      "Name: seasonal_vaccine, dtype: int64\n"
     ]
    }
   ],
   "source": [
    "# 2. Perform EDA to understand the data\n",
    "# Initial Data Exploration\n",
    "print(\"feat_train shape:\", feat_train.shape)\n",
    "print(\"lbl_train shape:\", lbl_train.shape)\n",
    "print(\"Test features shape:\", feat_test.shape)\n",
    "print(feat_train.head())\n",
    "print(feat_train.info())\n",
    "print(feat_train.describe())\n",
    "\n",
    "print(\"----------------------------------------------------------------\")\n",
    "\n",
    "\n",
    "# Missing Values Analysis\n",
    "print(\"\\nMissing values in train features:\\n\", feat_train.isnull().sum())\n",
    "print(\"\\nUnique values for categorical features:\")\n",
    "for col in feat_train.select_dtypes(include='object').columns:\n",
    "    print(f\"- {col}:\", feat_train[col].nunique(), \"unique values\")\n",
    "\n",
    "\n",
    "print(\"----------------------------------------------------------------\")\n",
    "\n",
    "# Display value counts for target variables\n",
    "print(\"\\nH1N1 Vaccine Value Counts:\\n\", lbl_train['h1n1_vaccine'].value_counts())\n",
    "print(\"\\nSeasonal Vaccine Value Counts:\\n\", lbl_train['seasonal_vaccine'].value_counts())\n",
    "\n",
    "print(\"----------------------------------------------------------------\")\n",
    "\n",
    "# Class Distribution\n",
    "print(\"\\nTarget variable distribution:\")\n",
    "print(lbl_train.mean())\n",
    "print(\"\\nH1N1 Vaccine Uptake Distribution:\")\n",
    "print(lbl_train['h1n1_vaccine'].value_counts())\n",
    "print(\"\\nSeasonal Vaccine Uptake Distribution:\")\n",
    "print(lbl_train['seasonal_vaccine'].value_counts())"
   ]
  },
  {
   "cell_type": "markdown",
   "id": "fb66e9ec",
   "metadata": {},
   "source": [
    "## D. Prepare the data for modelling"
   ]
  },
  {
   "cell_type": "code",
   "execution_count": 4,
   "id": "be9fd80f",
   "metadata": {},
   "outputs": [],
   "source": [
    "# 3. Data Preparation\n",
    "# Combine train and test features to apply the same transformations\n",
    "combined_features = pd.concat([feat_train, feat_test], ignore_index=True)\n",
    "\n",
    "# Fill missing values with 'missing'\n",
    "combined_features = combined_features.fillna('missing')\n",
    "\n",
    "# Encode categorical features\n",
    "for col in combined_features.select_dtypes('object').columns:\n",
    "    le = LabelEncoder()\n",
    "    combined_features[col] = le.fit_transform(combined_features[col].astype(str))\n",
    "\n",
    "# Separate train and test features\n",
    "feat_train = combined_features.iloc[:len(feat_train)]\n",
    "feat_test = combined_features.iloc[len(feat_train):]\n",
    "\n",
    "# Align the columns in the test set with the training set\n",
    "X = feat_train.drop(columns=['respondent_id'])\n",
    "X_test = feat_test.drop(columns=['respondent_id'])\n",
    "\n",
    "# Define the target variables\n",
    "y_h1n1 = lbl_train['h1n1_vaccine']\n",
    "y_seasonal = lbl_train['seasonal_vaccine']"
   ]
  },
  {
   "cell_type": "markdown",
   "id": "30d194cd",
   "metadata": {},
   "source": [
    "## E. Modelling : Training -> Evaluation -> Prediction"
   ]
  },
  {
   "cell_type": "markdown",
   "id": "f864fef8",
   "metadata": {},
   "source": [
    "#### Preseve the proportions of:\n",
    "- People who got both vaccines\n",
    "- People who got only the H1N1 vaccine\n",
    "- People who got only the seasonal vaccine\n",
    "- People who got neither vaccine\n",
    "\n",
    "### Use Logistic Regression and Light GBM Machine Learning Models and pick the best model for predicting the uptake of H1N1 and Seasonal Flu vaccines"
   ]
  },
  {
   "cell_type": "code",
   "execution_count": 5,
   "id": "b2e8ab65",
   "metadata": {},
   "outputs": [],
   "source": [
    "# 4. Modelling\n",
    "# 4.1 Logistic Regression\n",
    "\n",
    "# 4.1.1. Split Data for Logistic Regression\n",
    "X_train_lr, X_val_lr, y_train_lr, y_val_lr = train_test_split(\n",
    "    X, lbl_train[['h1n1_vaccine', 'seasonal_vaccine']],  # Combined labels\n",
    "    test_size=0.2, random_state=42, stratify=lbl_train[['h1n1_vaccine', 'seasonal_vaccine']]\n",
    ")"
   ]
  },
  {
   "cell_type": "code",
   "execution_count": 6,
   "id": "625b33f8",
   "metadata": {},
   "outputs": [
    {
     "data": {
      "text/plain": [
       "LogisticRegression(class_weight='balanced', random_state=42, solver='liblinear')"
      ]
     },
     "execution_count": 6,
     "metadata": {},
     "output_type": "execute_result"
    }
   ],
   "source": [
    "# 4.1.2. Train Logistic Regression Models (H1N1 and Seasonal)\n",
    "lr_model_h1n1 = LogisticRegression(solver='liblinear', random_state=42)\n",
    "lr_model_h1n1.fit(X_train_lr, y_train_lr['h1n1_vaccine'])\n",
    "\n",
    "lr_model_seasonal = LogisticRegression(solver='liblinear', random_state=42)\n",
    "lr_model_seasonal.fit(X_train_lr, y_train_lr['seasonal_vaccine'])\n",
    "\n",
    "\n",
    "lr_model_h1n1_balanced = LogisticRegression(\n",
    "    solver='liblinear', random_state=42, class_weight='balanced'\n",
    ")\n",
    "lr_model_h1n1_balanced.fit(X_train_lr, y_train_lr['h1n1_vaccine'])\n",
    "\n",
    "lr_model_seasonal_balanced = LogisticRegression(\n",
    "    solver='liblinear', random_state=42, class_weight='balanced'\n",
    ")\n",
    "lr_model_seasonal_balanced.fit(X_train_lr, y_train_lr['seasonal_vaccine'])"
   ]
  },
  {
   "cell_type": "code",
   "execution_count": 7,
   "id": "e938388d",
   "metadata": {},
   "outputs": [
    {
     "name": "stdout",
     "output_type": "stream",
     "text": [
      "LightGBM models trained.\n"
     ]
    }
   ],
   "source": [
    "# 4.2 LightGBM\n",
    "# 4.2.1. Train LightGBM Models (H1N1 and Seasonal)\n",
    "\n",
    "# Define LightGBM parameters (you might want to tune these)\n",
    "lgbm_params_h1n1 = {\n",
    "    'objective': 'binary',\n",
    "    'metric': 'binary_logloss',\n",
    "    'boosting_type': 'gbdt',\n",
    "    'learning_rate': 0.05,\n",
    "    'num_leaves': 20,\n",
    "    'max_depth': 5,\n",
    "    'seed': 42,\n",
    "    'n_jobs': -1,\n",
    "    'verbose': -1\n",
    "}\n",
    "\n",
    "lgbm_params_seasonal = {\n",
    "    'objective': 'binary',\n",
    "    'metric': 'binary_logloss',\n",
    "    'boosting_type': 'gbdt',\n",
    "    'learning_rate': 0.05,\n",
    "    'num_leaves': 20,\n",
    "    'max_depth': 5,\n",
    "    'seed': 42,\n",
    "    'n_jobs': -1,\n",
    "    'verbose': -1\n",
    "}\n",
    "\n",
    "lgbm_params_h1n1_balanced = {\n",
    "    'objective': 'binary',\n",
    "    'metric': 'binary_logloss',\n",
    "    'boosting_type': 'gbdt',\n",
    "    'learning_rate': 0.05,\n",
    "    'num_leaves': 20,\n",
    "    'max_depth': 5,\n",
    "    'seed': 42,\n",
    "    'n_jobs': -1,\n",
    "    'verbose': -1,\n",
    "    'scale_pos_weight': (y_train_lr['h1n1_vaccine'].value_counts()[0] /\n",
    "                          y_train_lr['h1n1_vaccine'].value_counts()[1]) if\n",
    "                         y_train_lr['h1n1_vaccine'].value_counts()[1] > 0 else 1\n",
    "}\n",
    "\n",
    "lgbm_params_seasonal_balanced = {\n",
    "    'objective': 'binary',\n",
    "    'metric': 'binary_logloss',\n",
    "    'boosting_type': 'gbdt',\n",
    "    'learning_rate': 0.05,\n",
    "    'num_leaves': 20,\n",
    "    'max_depth': 5,\n",
    "    'seed': 42,\n",
    "    'n_jobs': -1,\n",
    "    'verbose': -1,\n",
    "    'scale_pos_weight': (y_train_lr['seasonal_vaccine'].value_counts()[0] /\n",
    "                          y_train_lr['seasonal_vaccine'].value_counts()[1]) if\n",
    "                         y_train_lr['seasonal_vaccine'].value_counts()[1] > 0 else 1\n",
    "}\n",
    "\n",
    "def train_lgbm_single(X_train, y_train, lgbm_params):\n",
    "    \"\"\"\n",
    "    Trains a single LightGBM model.\n",
    "\n",
    "    Args:\n",
    "        X_train: Training features (DataFrame).\n",
    "        y_train: Training labels (Series).\n",
    "        lgbm_params: LightGBM parameters (dict).\n",
    "\n",
    "    Returns:\n",
    "        Trained LightGBM model.\n",
    "    \"\"\"\n",
    "    lgb_train = lgb.Dataset(X_train, label=y_train)\n",
    "    model = lgb.train(lgbm_params, lgb_train)\n",
    "    return model\n",
    "\n",
    "# 4.2.2. Train LightGBM models\n",
    "lgbm_model_h1n1 = train_lgbm_single(X_train_lr, y_train_lr['h1n1_vaccine'], lgbm_params_h1n1)\n",
    "lgbm_model_seasonal = train_lgbm_single(X_train_lr, y_train_lr['seasonal_vaccine'], lgbm_params_seasonal)\n",
    "lgbm_model_h1n1_balanced = train_lgbm_single(X_train_lr, y_train_lr['h1n1_vaccine'], lgbm_params_h1n1_balanced)\n",
    "lgbm_model_seasonal_balanced = train_lgbm_single(X_train_lr, y_train_lr['seasonal_vaccine'], lgbm_params_seasonal_balanced)\n",
    "\n",
    "print(\"LightGBM models trained.\")\n"
   ]
  },
  {
   "cell_type": "markdown",
   "id": "dbe2809b",
   "metadata": {},
   "source": [
    "## F. Evaluation"
   ]
  },
  {
   "cell_type": "markdown",
   "id": "d5b9bc2c",
   "metadata": {},
   "source": [
    "### Which model is best at predicting vaccined uptake with higher accuracy levels and precision while also handling imbalances in the data?"
   ]
  },
  {
   "cell_type": "code",
   "execution_count": 8,
   "id": "bea74447",
   "metadata": {},
   "outputs": [
    {
     "name": "stdout",
     "output_type": "stream",
     "text": [
      "\n",
      "Logistic Regression (H1N1) AUC: 0.8263\n",
      "\n",
      "Logistic Regression (H1N1) with Class Weights AUC: 0.8266\n",
      "\n",
      "Logistic Regression (Seasonal) AUC: 0.8333\n",
      "\n",
      "Logistic Regression (Seasonal) with Class Weights AUC: 0.8334\n"
     ]
    }
   ],
   "source": [
    "# --- 5. Model Evaluation ---\n",
    "# 5.1 AUC\n",
    "# 5.1.1. Evaluate Logistic Regression Models: Calculate and print AUC for Logistic Regression Models\n",
    "\n",
    "# H1N1\n",
    "y_pred_h1n1_lr = lr_model_h1n1.predict_proba(X_val_lr)[:, 1]  # Get probabilities for the positive class\n",
    "auc_h1n1_lr = roc_auc_score(y_val_lr['h1n1_vaccine'], y_pred_h1n1_lr)\n",
    "print(f\"\\nLogistic Regression (H1N1) AUC: {auc_h1n1_lr:.4f}\")\n",
    "\n",
    "y_pred_h1n1_lr_balanced = lr_model_h1n1_balanced.predict_proba(X_val_lr)[:, 1]\n",
    "auc_h1n1_lr_balanced = roc_auc_score(y_val_lr['h1n1_vaccine'], y_pred_h1n1_lr_balanced)\n",
    "print(f\"\\nLogistic Regression (H1N1) with Class Weights AUC: {auc_h1n1_lr_balanced:.4f}\")\n",
    "\n",
    "# Seasonal\n",
    "y_pred_seasonal_lr = lr_model_seasonal.predict_proba(X_val_lr)[:, 1]\n",
    "auc_seasonal_lr = roc_auc_score(y_val_lr['seasonal_vaccine'], y_pred_seasonal_lr)\n",
    "print(f\"\\nLogistic Regression (Seasonal) AUC: {auc_seasonal_lr:.4f}\")\n",
    "\n",
    "y_pred_seasonal_lr_balanced = lr_model_seasonal_balanced.predict_proba(X_val_lr)[:, 1]\n",
    "auc_seasonal_lr_balanced = roc_auc_score(y_val_lr['seasonal_vaccine'], y_pred_seasonal_lr_balanced)\n",
    "print(f\"\\nLogistic Regression (Seasonal) with Class Weights AUC: {auc_seasonal_lr_balanced:.4f}\")"
   ]
  },
  {
   "cell_type": "code",
   "execution_count": 9,
   "id": "9418bdea",
   "metadata": {},
   "outputs": [
    {
     "name": "stdout",
     "output_type": "stream",
     "text": [
      "\n",
      "--- H1N1 Vaccine AUCs ---\n",
      "H1N1 Imbalanced AUC: 0.8755\n",
      "H1N1 Balanced AUC: 0.8749\n",
      "\n",
      "--- Seasonal Vaccine AUCs ---\n",
      "Seasonal Imbalanced AUC: 0.8601\n",
      "Seasonal Balanced AUC: 0.8605\n"
     ]
    }
   ],
   "source": [
    "# 5.1.2 Evaluate LightGBM Models: Calculate and print AUC for LightGBM Models\n",
    "\n",
    "# Models: lgbm_model_h1n1, lgbm_model_seasonal, lgbm_model_h1n1_balanced, lgbm_model_seasonal_balanced\n",
    "def calculate_auc(model, X_val, y_val, model_name):\n",
    "    \"\"\"\n",
    "    Calculates and prints the AUC score for a given LightGBM model.\n",
    "\n",
    "    Args:\n",
    "        model: Trained LightGBM model.\n",
    "        X_val: Validation features (DataFrame).\n",
    "        y_val: Validation labels (Series).\n",
    "        model_name: Name of the model (e.g., \"H1N1 Balanced\").\n",
    "    \"\"\"\n",
    "    y_pred_prob = model.predict(X_val)\n",
    "    auc_score = roc_auc_score(y_val, y_pred_prob)\n",
    "    print(f\"{model_name} AUC: {auc_score:.4f}\")\n",
    "\n",
    "\n",
    "\n",
    "# --- Calculate AUCs for H1N1 Models ---\n",
    "print(\"\\n--- H1N1 Vaccine AUCs ---\")\n",
    "calculate_auc(lgbm_model_h1n1, X_val_lr, y_val_lr['h1n1_vaccine'], \"H1N1 Imbalanced\")\n",
    "calculate_auc(lgbm_model_h1n1_balanced, X_val_lr, y_val_lr['h1n1_vaccine'], \"H1N1 Balanced\")\n",
    "\n",
    "# --- Calculate AUCs for Seasonal Models ---\n",
    "print(\"\\n--- Seasonal Vaccine AUCs ---\")\n",
    "calculate_auc(lgbm_model_seasonal, X_val_lr, y_val_lr['seasonal_vaccine'], \"Seasonal Imbalanced\")\n",
    "calculate_auc(lgbm_model_seasonal_balanced, X_val_lr, y_val_lr['seasonal_vaccine'], \"Seasonal Balanced\")"
   ]
  },
  {
   "cell_type": "code",
   "execution_count": 10,
   "id": "11a600b7",
   "metadata": {},
   "outputs": [
    {
     "name": "stdout",
     "output_type": "stream",
     "text": [
      "\n",
      "--- Logistic Regression Evaluation: H1N1 ---\n",
      "\n",
      "Logistic Regression (H1N1) Classification Report- No class weights:\n",
      "              precision    recall  f1-score   support\n",
      "\n",
      "           0       0.85      0.96      0.90      4207\n",
      "           1       0.69      0.38      0.49      1135\n",
      "\n",
      "    accuracy                           0.83      5342\n",
      "   macro avg       0.77      0.67      0.70      5342\n",
      "weighted avg       0.82      0.83      0.81      5342\n",
      "\n"
     ]
    },
    {
     "data": {
      "image/png": "[encoded data removed]",
      "text/plain": [
       "<Figure size 432x288 with 2 Axes>"
      ]
     },
     "metadata": {
      "needs_background": "light"
     },
     "output_type": "display_data"
    },
    {
     "name": "stdout",
     "output_type": "stream",
     "text": [
      "\n",
      "Logistic Regression (H1N1) with Class Weights Classification Report:\n",
      "              precision    recall  f1-score   support\n",
      "\n",
      "           0       0.92      0.75      0.83      4207\n",
      "           1       0.45      0.76      0.56      1135\n",
      "\n",
      "    accuracy                           0.75      5342\n",
      "   macro avg       0.68      0.75      0.70      5342\n",
      "weighted avg       0.82      0.75      0.77      5342\n",
      "\n"
     ]
    },
    {
     "data": {
      "image/png": "[encoded data removed]",
      "text/plain": [
       "<Figure size 432x288 with 2 Axes>"
      ]
     },
     "metadata": {
      "needs_background": "light"
     },
     "output_type": "display_data"
    },
    {
     "name": "stdout",
     "output_type": "stream",
     "text": [
      "\n",
      "--- Logistic Regression Evaluation: Seasonal ---\n",
      "\n",
      "Logistic Regression (Seasonal) Classification Report-No class weights:\n",
      "              precision    recall  f1-score   support\n",
      "\n",
      "           0       0.78      0.79      0.78      2854\n",
      "           1       0.76      0.74      0.75      2488\n",
      "\n",
      "    accuracy                           0.77      5342\n",
      "   macro avg       0.77      0.77      0.77      5342\n",
      "weighted avg       0.77      0.77      0.77      5342\n",
      "\n"
     ]
    },
    {
     "data": {
      "image/png": "[encoded data removed]",
      "text/plain": [
       "<Figure size 432x288 with 2 Axes>"
      ]
     },
     "metadata": {
      "needs_background": "light"
     },
     "output_type": "display_data"
    },
    {
     "name": "stdout",
     "output_type": "stream",
     "text": [
      "\n",
      "Logistic Regression (Seasonal) with Class Weights Classification Report:\n",
      "              precision    recall  f1-score   support\n",
      "\n",
      "           0       0.79      0.76      0.77      2854\n",
      "           1       0.73      0.77      0.75      2488\n",
      "\n",
      "    accuracy                           0.76      5342\n",
      "   macro avg       0.76      0.76      0.76      5342\n",
      "weighted avg       0.76      0.76      0.76      5342\n",
      "\n"
     ]
    },
    {
     "data": {
      "image/png": "[encoded data removed]",
      "text/plain": [
       "<Figure size 432x288 with 2 Axes>"
      ]
     },
     "metadata": {
      "needs_background": "light"
     },
     "output_type": "display_data"
    }
   ],
   "source": [
    "# 5.2 F1 Score\n",
    "# 5.2.1 Evaluate Logistic Regression Models: Calculate and print F1 Score for Logistic Regression Models\n",
    "# 5.2.1.1. Evaluate Logistic Regression Model (H1N1)\n",
    "print(\"\\n--- Logistic Regression Evaluation: H1N1 ---\")\n",
    "\n",
    "# H1N1 - No Class Weights\n",
    "print(\"\\nLogistic Regression (H1N1) Classification Report- No class weights:\")\n",
    "y_pred_h1n1_lr_class = lr_model_h1n1.predict(X_val_lr)  \n",
    "print(classification_report(y_val_lr['h1n1_vaccine'], y_pred_h1n1_lr_class))\n",
    "\n",
    "cm_h1n1_lr = confusion_matrix(y_val_lr['h1n1_vaccine'], y_pred_h1n1_lr_class) \n",
    "plt.figure(figsize=(6, 4))\n",
    "sns.heatmap(cm_h1n1_lr, annot=True, fmt='d', cmap='Blues',\n",
    "            xticklabels=['Not Vaccinated', 'Vaccinated'],\n",
    "            yticklabels=['Not Vaccinated', 'Vaccinated'])\n",
    "plt.xlabel('Predicted')\n",
    "plt.ylabel('Actual')\n",
    "plt.title('Logistic Regression (H1N1) Confusion Matrix')\n",
    "plt.show()\n",
    "\n",
    "\n",
    "# H1N1 - With Class Weights\n",
    "print(\"\\nLogistic Regression (H1N1) with Class Weights Classification Report:\")\n",
    "y_pred_h1n1_lr_balanced_class = lr_model_h1n1_balanced.predict(X_val_lr) \n",
    "print(classification_report(y_val_lr['h1n1_vaccine'], y_pred_h1n1_lr_balanced_class))\n",
    "\n",
    "cm_h1n1_lr_balanced = confusion_matrix(y_val_lr['h1n1_vaccine'], y_pred_h1n1_lr_balanced_class)  \n",
    "plt.figure(figsize=(6, 4))\n",
    "sns.heatmap(cm_h1n1_lr_balanced, annot=True, fmt='d', cmap='Greens',\n",
    "            xticklabels=['Not Vaccinated', 'Vaccinated'],\n",
    "            yticklabels=['Not Vaccinated', 'Vaccinated'])\n",
    "plt.xlabel('Predicted')\n",
    "plt.ylabel('Actual')\n",
    "plt.title('Logistic Regression (H1N1) with Class Weights Confusion Matrix')\n",
    "plt.show()\n",
    "\n",
    "# 5.2.1.2. Evaluate Logistic Regression Model (Seasonal)\n",
    "print(\"\\n--- Logistic Regression Evaluation: Seasonal ---\")\n",
    "\n",
    "# Seasonal - No Class Weights\n",
    "print(\"\\nLogistic Regression (Seasonal) Classification Report-No class weights:\")\n",
    "y_pred_seasonal_lr_class = lr_model_seasonal.predict(X_val_lr)\n",
    "print(classification_report(y_val_lr['seasonal_vaccine'], y_pred_seasonal_lr_class))\n",
    "\n",
    "cm_seasonal_lr = confusion_matrix(y_val_lr['seasonal_vaccine'], y_pred_seasonal_lr_class)\n",
    "plt.figure(figsize=(6, 4))\n",
    "sns.heatmap(cm_seasonal_lr, annot=True, fmt='d', cmap='Oranges',\n",
    "            xticklabels=['Not Vaccinated', 'Vaccinated'],\n",
    "            yticklabels=['Not Vaccinated', 'Vaccinated'])\n",
    "plt.xlabel('Predicted')\n",
    "plt.ylabel('Actual')\n",
    "plt.title('Logistic Regression (Seasonal) Confusion Matrix')\n",
    "plt.show()\n",
    "\n",
    "# Seasonal - With Class Weights\n",
    "print(\"\\nLogistic Regression (Seasonal) with Class Weights Classification Report:\")\n",
    "y_pred_seasonal_lr_balanced_class = lr_model_seasonal_balanced.predict(X_val_lr)\n",
    "print(classification_report(y_val_lr['seasonal_vaccine'], y_pred_seasonal_lr_balanced_class))\n",
    "\n",
    "cm_seasonal_lr_balanced = confusion_matrix(y_val_lr['seasonal_vaccine'], y_pred_seasonal_lr_balanced_class)\n",
    "plt.figure(figsize=(6, 4))\n",
    "sns.heatmap(cm_seasonal_lr_balanced, annot=True, fmt='d', cmap='Blues',\n",
    "            xticklabels=['Not Vaccinated', 'Vaccinated'],\n",
    "            yticklabels=['Not Vaccinated', 'Vaccinated'])\n",
    "plt.xlabel('Predicted')\n",
    "plt.ylabel('Actual')\n",
    "plt.title('Logistic Regression (Seasonal) with Class Weights Confusion Matrix')\n",
    "plt.show()"
   ]
  },
  {
   "cell_type": "code",
   "execution_count": 11,
   "id": "82b37dca",
   "metadata": {},
   "outputs": [
    {
     "name": "stdout",
     "output_type": "stream",
     "text": [
      "\n",
      "--- Evaluation: H1N1 ---\n",
      "LightGBM (H1N1) AUC: 0.8755\n",
      "\n",
      "LightGBM (H1N1) Classification Report:\n",
      "               precision    recall  f1-score   support\n",
      "\n",
      "           0       0.87      0.95      0.91      4207\n",
      "           1       0.74      0.49      0.59      1135\n",
      "\n",
      "    accuracy                           0.85      5342\n",
      "   macro avg       0.80      0.72      0.75      5342\n",
      "weighted avg       0.84      0.85      0.84      5342\n",
      "\n"
     ]
    },
    {
     "data": {
      "image/png": "[encoded data removed]",
      "text/plain": [
       "<Figure size 432x288 with 2 Axes>"
      ]
     },
     "metadata": {
      "needs_background": "light"
     },
     "output_type": "display_data"
    },
    {
     "name": "stdout",
     "output_type": "stream",
     "text": [
      "LightGBM (H1N1) Balanced AUC: 0.8749\n",
      "\n",
      "LightGBM (H1N1) Balanced Classification Report:\n",
      "               precision    recall  f1-score   support\n",
      "\n",
      "           0       0.93      0.81      0.87      4207\n",
      "           1       0.52      0.78      0.63      1135\n",
      "\n",
      "    accuracy                           0.80      5342\n",
      "   macro avg       0.73      0.79      0.75      5342\n",
      "weighted avg       0.84      0.80      0.81      5342\n",
      "\n"
     ]
    },
    {
     "data": {
      "image/png": "[encoded data removed]",
      "text/plain": [
       "<Figure size 432x288 with 2 Axes>"
      ]
     },
     "metadata": {
      "needs_background": "light"
     },
     "output_type": "display_data"
    },
    {
     "name": "stdout",
     "output_type": "stream",
     "text": [
      "\n",
      "--- Evaluation: Seasonal ---\n",
      "LightGBM (Seasonal) AUC: 0.8601\n",
      "\n",
      "LightGBM (Seasonal) Classification Report:\n",
      "               precision    recall  f1-score   support\n",
      "\n",
      "           0       0.79      0.81      0.80      2854\n",
      "           1       0.78      0.75      0.76      2488\n",
      "\n",
      "    accuracy                           0.78      5342\n",
      "   macro avg       0.78      0.78      0.78      5342\n",
      "weighted avg       0.78      0.78      0.78      5342\n",
      "\n"
     ]
    },
    {
     "data": {
      "image/png": "[encoded data removed]",
      "text/plain": [
       "<Figure size 432x288 with 2 Axes>"
      ]
     },
     "metadata": {
      "needs_background": "light"
     },
     "output_type": "display_data"
    },
    {
     "name": "stdout",
     "output_type": "stream",
     "text": [
      "LightGBM (Seasonal) Balanced AUC: 0.8605\n",
      "\n",
      "LightGBM (Seasonal) Balanced Classification Report:\n",
      "               precision    recall  f1-score   support\n",
      "\n",
      "           0       0.80      0.78      0.79      2854\n",
      "           1       0.76      0.78      0.77      2488\n",
      "\n",
      "    accuracy                           0.78      5342\n",
      "   macro avg       0.78      0.78      0.78      5342\n",
      "weighted avg       0.78      0.78      0.78      5342\n",
      "\n"
     ]
    },
    {
     "data": {
      "image/png": "[encoded data removed]",
      "text/plain": [
       "<Figure size 432x288 with 2 Axes>"
      ]
     },
     "metadata": {
      "needs_background": "light"
     },
     "output_type": "display_data"
    }
   ],
   "source": [
    "# 5.2.2 Evaluate LightGBM Models: Calculate and print F1 Score for LightGBM Models\n",
    "\n",
    "# Light GBM Model Evaluation\n",
    "\n",
    "def evaluate_model(model, X_val, y_val, title):\n",
    "    \"\"\"\n",
    "    Evaluates a LightGBM model using AUC and confusion matrix.\n",
    "\n",
    "    Args:\n",
    "        model: Trained LightGBM model.\n",
    "        X_val: Validation features (DataFrame).\n",
    "        y_val: Validation labels (Series).\n",
    "        title: Title for the confusion matrix plot.\n",
    "\n",
    "    Returns:\n",
    "        AUC score.\n",
    "    \"\"\"\n",
    "    # Predict probabilities\n",
    "    y_pred_prob = model.predict(X_val)\n",
    "    # Calculate AUC\n",
    "    auc_score = roc_auc_score(y_val, y_pred_prob)\n",
    "    print(f\"{title} AUC: {auc_score:.4f}\")\n",
    "    \n",
    "    # Predict classes\n",
    "    y_pred_class = (y_pred_prob >= 0.5).astype(int)\n",
    "    # Confusion Matrix\n",
    "    cm = confusion_matrix(y_val, y_pred_class)\n",
    "    print(f\"\\n{title} Classification Report:\\n\", classification_report(y_val, y_pred_class))\n",
    "    \n",
    "    # Plot Confusion Matrix\n",
    "    plt.figure(figsize=(6, 4))\n",
    "    sns.heatmap(cm, annot=True, fmt='d', cmap='Blues', \n",
    "                xticklabels=['Not Vaccinated', 'Vaccinated'], \n",
    "                yticklabels=['Not Vaccinated', 'Vaccinated'])\n",
    "    plt.xlabel('Predicted')\n",
    "    plt.ylabel('Actual')\n",
    "    plt.title(f'{title} Confusion Matrix')\n",
    "    plt.show()\n",
    "    \n",
    "    return auc_score\n",
    "\n",
    "# Evaluate models\n",
    "print(\"\\n--- Evaluation: H1N1 ---\")\n",
    "auc_h1n1 = evaluate_model(lgbm_model_h1n1, X_val_lr, y_val_lr['h1n1_vaccine'], \"LightGBM (H1N1)\")\n",
    "auc_h1n1_balanced = evaluate_model(lgbm_model_h1n1_balanced, X_val_lr, y_val_lr['h1n1_vaccine'], \"LightGBM (H1N1) Balanced\")\n",
    "\n",
    "print(\"\\n--- Evaluation: Seasonal ---\")\n",
    "auc_seasonal = evaluate_model(lgbm_model_seasonal, X_val_lr, y_val_lr['seasonal_vaccine'], \"LightGBM (Seasonal)\")\n",
    "auc_seasonal_balanced = evaluate_model(lgbm_model_seasonal_balanced, X_val_lr, y_val_lr['seasonal_vaccine'], \"LightGBM (Seasonal) Balanced\")"
   ]
  },
  {
   "cell_type": "markdown",
   "id": "7b809261",
   "metadata": {},
   "source": [
    "#### Verdict\n",
    "\n",
    "- Overall: Both models generally perform better on the Seasonal flu prediction task compared to the H1N1 prediction. This could be due to the Seasonal data being more balanced or having other inherent characteristics that make it easier to model.\n",
    "- LightGBM: LightGBM maintains relatively strong performance across both diseases, demonstrating its robustness.\n",
    "Best Model Selection Summary:\n",
    "\n",
    "### For both H1N1 and Seasonal flu vaccine prediction, LightGBM is the preferred model. Its higher AUC, accuracy, and balanced performance metrics make it a more reliable choice.\n"
   ]
  },
  {
   "cell_type": "markdown",
   "id": "f791dc4d",
   "metadata": {},
   "source": [
    "### Predict Vaccine uptake for H1N1 and Seasonal Flu using the best Model (Light GBM), in this case:"
   ]
  },
  {
   "cell_type": "code",
   "execution_count": 12,
   "id": "9829bd00",
   "metadata": {},
   "outputs": [
    {
     "name": "stdout",
     "output_type": "stream",
     "text": [
      "H1N1 Vaccine Predictions (Balanced):\n",
      "[0.44683096 0.13095871 0.46682751 ... 0.49510633 0.08905042 0.83024722]\n",
      "\n",
      "Seasonal Vaccine Predictions (Balanced):\n",
      "[0.34079229 0.05412575 0.71132832 ... 0.28018165 0.42449749 0.59762057]\n",
      "\n",
      "H1N1 Vaccine Binary Predictions (Balanced, threshold=0.5):\n",
      "[0 0 0 ... 0 0 1]\n",
      "\n",
      "Seasonal Vaccine Binary Predictions (Balanced, threshold=0.5):\n",
      "[0 0 1 ... 0 0 1]\n"
     ]
    }
   ],
   "source": [
    "def predict_from_lgbm_models(models_h1n1, models_seasonal, X_predict):\n",
    "    \"\"\"\n",
    "    Predicts vaccine uptake probabilities using trained LightGBM models.\n",
    "\n",
    "    Args:\n",
    "        models_h1n1 (list of lgb.Booster): Trained LightGBM models for H1N1 vaccine prediction.\n",
    "        models_seasonal (list of lgb.Booster): Trained LightGBM models for seasonal vaccine prediction.\n",
    "        X_predict (pd.DataFrame): Features for which to make predictions.\n",
    "\n",
    "    Returns:\n",
    "        tuple: A tuple containing two NumPy arrays:\n",
    "               - h1n1_pred_probabilities: Predicted probabilities for H1N1 vaccine uptake.\n",
    "               - seasonal_pred_probabilities: Predicted probabilities for seasonal vaccine uptake.\n",
    "    \"\"\"\n",
    "    h1n1_preds = [model.predict(X_predict) for model in models_h1n1]\n",
    "    seasonal_preds = [model.predict(X_predict) for model in models_seasonal]\n",
    " \n",
    "    h1n1_pred_probabilities = h1n1_preds[0] if len(h1n1_preds) == 1 else sum(h1n1_preds) / len(h1n1_preds)\n",
    "    seasonal_pred_probabilities = seasonal_preds[0] if len(seasonal_preds) == 1 else sum(seasonal_preds) / len(seasonal_preds)\n",
    "\n",
    "    return h1n1_pred_probabilities, seasonal_pred_probabilities\n",
    "\n",
    "\n",
    "# Predict vaccine uptake using the trained balanced LightGBM models\n",
    "\n",
    "h1n1_pred_probabilities_balanced, seasonal_pred_probabilities_balanced = predict_from_lgbm_models(\n",
    "    models_h1n1=[lgbm_model_h1n1_balanced],  # Pass the balanced H1N1 model in a list\n",
    "    models_seasonal=[lgbm_model_seasonal_balanced],  # Pass the balanced Seasonal model in a list\n",
    "    X_predict=feat_test.drop(columns=['respondent_id'], errors='ignore')  # Drop respondent_id if it exists\n",
    ")\n",
    "\n",
    "# Display the predicted probabilities\n",
    "print(\"H1N1 Vaccine Predictions (Balanced):\")\n",
    "print(h1n1_pred_probabilities_balanced)\n",
    "print(\"\\nSeasonal Vaccine Predictions (Balanced):\")\n",
    "print(seasonal_pred_probabilities_balanced)\n",
    "\n",
    "# Convert these probabilities to binary predictions (e.g., 0 or 1)\n",
    "# based on a threshold (e.g., 0.5):\n",
    "threshold = 0.5\n",
    "h1n1_predictions_binary_balanced = (h1n1_pred_probabilities_balanced > threshold).astype(int)\n",
    "seasonal_predictions_binary_balanced = (seasonal_pred_probabilities_balanced > threshold).astype(int)\n",
    "\n",
    "print(\"\\nH1N1 Vaccine Binary Predictions (Balanced, threshold=0.5):\")\n",
    "print(h1n1_predictions_binary_balanced)\n",
    "print(\"\\nSeasonal Vaccine Binary Predictions (Balanced, threshold=0.5):\")\n",
    "print(seasonal_predictions_binary_balanced)"
   ]
  },
  {
   "cell_type": "markdown",
   "id": "dbbd2978",
   "metadata": {},
   "source": [
    "## G. Deploy the Model"
   ]
  },
  {
   "cell_type": "code",
   "execution_count": 13,
   "id": "612d5db9",
   "metadata": {},
   "outputs": [
    {
     "name": "stdout",
     "output_type": "stream",
     "text": [
      "\n",
      "Submission file created: submission.csv\n"
     ]
    }
   ],
   "source": [
    "# 6. Submission\n",
    "\n",
    "# 1. Create submission DataFrame\n",
    "submission = pd.DataFrame({\n",
    "    'respondent_id': feat_test['respondent_id'],\n",
    "    'h1n1_vaccine':   h1n1_pred_probabilities_balanced.round(2),  # Round to 2 decimal places for higher precision\n",
    "    'seasonal_vaccine': seasonal_pred_probabilities_balanced.round(2) # Round to 2 decimal places for higher precision\n",
    "})\n",
    "\n",
    "# 2. Ensure column order matches the submission format\n",
    "submission = submission[['respondent_id', 'h1n1_vaccine', 'seasonal_vaccine']]\n",
    "\n",
    "# 3. Save submission file\n",
    "submission.to_csv('submission.csv', index=False)\n",
    "\n",
    "print(\"\\nSubmission file created: submission.csv\")"
   ]
  },
  {
   "cell_type": "markdown",
   "id": "69e6f24d",
   "metadata": {},
   "source": [
    "#### This pipeline, anchored in CRISP‑DM, delivers strong AUCs (0.8749 [H1N1] and 0.8605 [seasonal]) by combining sound preprocessing, stratified validation, and LightGBM\n"
   ]
  }
 ],
 "metadata": {
  "kernelspec": {
   "display_name": "Python (learn-env)",
   "language": "python",
   "name": "learn-env"
  },
  "language_info": {
   "codemirror_mode": {
    "name": "ipython",
    "version": 3
   },
   "file_extension": ".py",
   "mimetype": "text/x-python",
   "name": "python",
   "nbconvert_exporter": "python",
   "pygments_lexer": "ipython3",
   "version": "3.8.5"
  }
 },
 "nbformat": 4,
 "nbformat_minor": 5
}
